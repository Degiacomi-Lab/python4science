{
 "cells": [
  {
   "cell_type": "markdown",
   "metadata": {
    "collapsed": true
   },
   "source": [
    "----\n",
    "\n",
    "# Numerical Data Analysis\n",
    "\n",
    "Dr Matteo Degiacomi\n",
    "Department of Physics, Durham University\n",
    "<matteo.t.degiacomi@durham.ac.uk>\n",
    "\n",
    "----\n",
    "\n",
    "This workshop is centered on using Python packages to load, manipulate, display and analyse numerical data. You will learn:\n",
    "\n",
    "* how to use [Numpy](#numpy) library to **manipulate [1D](#1D) and [2D](#2D) numerical data**\n",
    "    + using inbuild functions to generate [1D](#1Dgen) and [2D](#2Dgen) arrays and check their [properties](#2Dprop);\n",
    "    + to [load](#loading) arrays to/from a file;\n",
    "    + to access parts of arrays by slicing [1D](#1Dslice) and [2D](#2Dslice) arrays;\n",
    "    + to perform mathematical operations on arrays in [1D](#1Dmath) and [2D](#2Dmath);\n",
    "    + to [analyse](#2Danalys) arrays using inbuilt functions, e.g. finding minimum and maximum values, sorting the array, calculating [mean and median](#mean), [standard deviation](#STD), performing [integration and differentiation](#intdiff);\n",
    "    + to  carry out [Boolean operations](#bool), such as boolean [tests](#booltest) and [indexing](#boolind);\n",
    "\n",
    "* how to **plot your data** with [Matplotlib](#matplot)\n",
    "    + choosing styles of [lines and colours](#customline); \n",
    "    + setting [labels](#labelplt);\n",
    "    + creating [subplots](#subpl);\n",
    "    + [saving](#saveplt) plots for use in your report/thesis/paper.\n",
    "\n",
    "* how to **analyse numerical data** with [Numpy as Scipy](#analyis):\n",
    "    + fitting noisy data with [linear](#polyfit) and [non-linear](#curvefit) models; \n",
    "    + integrating [differential equations](#odeint);\n",
    "    + calculating the derivative of a signal and area under the curve [labels](#diffint);\n",
    "    \n",
    "<a class=\"anchor\" id=\"teabags\"></a>\n",
    "\n",
    "\n",
    "*Acknowledgements*: thanks to Dr Erastova, University of Edinburgh (www.erastova.xyz), for having shared teaching materials and ideas.\n",
    "\n",
    "---\n"
   ]
  },
  {
   "cell_type": "markdown",
   "metadata": {},
   "source": [
    "## Table of Contents:\n",
    "\n",
    "### Part 1 - [Arrays with NumPy](#numpy)\n",
    "\n",
    "#### Part 1.1 - [1D Arrays](#1D)\n",
    "  * 1.1.1 [Generating 1D arrays](#1Dgen)\n",
    "  * 1.1.2 [Math operations on 1D arrays](#1Dmath)\n",
    "  * 1.1.3 [Accessing slices of 1D array](#1Dslice)\n",
    "\n",
    "#### Part 1.2 - [2D and multiD arrays](#2D)\n",
    "  * 1.2.1 [Generating 2D arrays](#2Dgen)\n",
    "  * 1.2.2 [Loading an array from/to a file](#loading)\n",
    "  * 1.2.3 [Slicing 2D arrays](#2Dslice) \n",
    "  * 1.2.4 [Math operations on 2D arrays](#2Dmath)\n",
    "  * 1.2.5 [Analysing and processing arrays](#2Danalys) \n",
    "\n",
    "#### Part 1.3 - [Boolean Indexing](#bool)\n",
    "  * 1.3.1 [Boolean Tests](#booltests)\n",
    "  * 1.3.2 [Boolean Indexing](#boolind)\n",
    "  * 1.3.3 [Example application of Boolean logic](#boolex)\n",
    "\n",
    "### Part 2 - [Plotting data with Matplotlib](#matplot)\n",
    "  * 2.1 Customise the [line style](#customline)\n",
    "  * 2.1 - [Labeling the plot and the data](#labelplt)\n",
    "  * 2.1 - Creating [sub-plots](#subpl)\n",
    "  * 2.1 - [Saving your plots](#saveplt)\n",
    "  \n",
    "\n",
    "### Part 3 - [Data Analysis with Numpy and Scipy](#analysis)\n",
    "\n",
    "#### Part 3.1 - [fitting data with models](#fitmodels)\n",
    "  * 3.1.1 - [polynomial fitting](#polyfit)\n",
    "  * 3.1.2 - [non-linear curve fit](#curvefit)\n",
    "\n",
    "#### Part 3.2 - [integrating differential equations](#odeint)\n",
    "\n",
    "#### Part 3.3 - [derivative and integration](#diffandint)\n",
    "---"
   ]
  },
  {
   "cell_type": "markdown",
   "metadata": {},
   "source": [
    "# Part 1 - Arrays with Numpy <a class=\"anchor\" id=\"numpy\"></a>\n"
   ]
  },
  {
   "cell_type": "markdown",
   "metadata": {},
   "source": [
    "NumPy, which stands for Numerical Python, is a library consisting of multidimensional array objects and a collection of routines for processing those arrays. <br>Using NumPy, mathematical and logical operations on arrays can be performed. As it works on arrays, it is compatible with pandas. "
   ]
  },
  {
   "cell_type": "markdown",
   "metadata": {},
   "source": [
    "Like above, we import the numpy library as an alias which is standard for python."
   ]
  },
  {
   "cell_type": "code",
   "execution_count": null,
   "metadata": {
    "collapsed": true
   },
   "outputs": [],
   "source": [
    "import numpy as np"
   ]
  },
  {
   "cell_type": "markdown",
   "metadata": {},
   "source": [
    "When we use a numpy function it is always prefaced with `np.`"
   ]
  },
  {
   "cell_type": "markdown",
   "metadata": {},
   "source": [
    "---\n",
    "\n",
    "## Part 1.1 - 1D Arrays <a class=\"anchor\" id=\"1D\"></a>\n",
    "\n",
    "NumPy arrays are homogeneous in nature, i.e. they comprise **one data type** (integer, float, double, etc.) unlike lists that can be a mix of data types."
   ]
  },
  {
   "cell_type": "markdown",
   "metadata": {},
   "source": [
    "### 1.1.1 - Generating 1D arrays <a class=\"anchor\" id=\"1Dgen\"></a>\n",
    "\n",
    "For example, to create an array of integers (single numbers like 1, 2, 3, 4, 5) we can do it like so:\n",
    "\n",
    "<img src=\"images/nparray.png\" width=\"500\">"
   ]
  },
  {
   "cell_type": "code",
   "execution_count": null,
   "metadata": {
    "collapsed": false
   },
   "outputs": [],
   "source": [
    "#Creating a 1D numpy array:\n",
    "a = [1, 2, 3, 4, 5]\n",
    "np.array(a)"
   ]
  },
  {
   "cell_type": "markdown",
   "metadata": {},
   "source": [
    "And now lets look at **properties** of our array  <a class=\"anchor\" id=\"1Dprop\"></a>\n",
    "\n",
    "<img src=\"images/nparray2.png\" width=\"500\">\n",
    "\n"
   ]
  },
  {
   "cell_type": "code",
   "execution_count": null,
   "metadata": {
    "collapsed": false
   },
   "outputs": [],
   "source": [
    "#Assign array to a variable:\n",
    "my_array = np.array(a)\n",
    "\n",
    "#array properties of the 1D array\n",
    "print(\"dimensions\", my_array.ndim)\n",
    "print(\"shape\", my_array.shape)\n",
    "print(\"size\", my_array.size)\n",
    "print(\"type\", my_array.dtype)"
   ]
  },
  {
   "cell_type": "markdown",
   "metadata": {},
   "source": [
    "You can also use **functions** within numpy to generate these arrays, for example lets use `np.zeros(shape)` and generate a 1D array:\n",
    "\n",
    "\n",
    "<img src=\"images/nparray3.png\" width=\"500\">"
   ]
  },
  {
   "cell_type": "code",
   "execution_count": null,
   "metadata": {
    "collapsed": false,
    "scrolled": true
   },
   "outputs": [],
   "source": [
    "#creating an array\n",
    "z=np.zeros(10)\n",
    "print(\"my array of zeros\", z, \"is of a type\", z.dtype)"
   ]
  },
  {
   "cell_type": "markdown",
   "metadata": {},
   "source": [
    "<div class=\"alert alert-success\">\n",
    "    <b>TASK 1.1.1 </b> : generate a 1D array of length of 5 filled with ones \n",
    "   \n",
    "</div>\n",
    "\n"
   ]
  },
  {
   "cell_type": "code",
   "execution_count": null,
   "metadata": {
    "collapsed": true
   },
   "outputs": [],
   "source": [
    "# your solution here!\n",
    "\n"
   ]
  },
  {
   "cell_type": "markdown",
   "metadata": {},
   "source": [
    "<details>\n",
    "    <summary> <mark> SOLUTION:</mark> </summary>\n",
    "   \n",
    "```python\n",
    "np.ones(5)\n",
    "\n",
    "```\n",
    "\n",
    "</details>"
   ]
  },
  {
   "cell_type": "markdown",
   "metadata": {},
   "source": [
    "[back to top](#teabags)\n",
    "\n",
    "\n",
    "---\n",
    "\n",
    "### 1.1.2 - Mathematical operations on 1D arrays <a class=\"anchor\" id=\"1Dmath\"></a>\n",
    "\n",
    "All mathematical operations between arrays act element by element. Operations with scalars (= a single number) act on every element of the array.\n",
    "\n",
    "You can think of the array as a *vector*, and perform math operations in a compact way (no need for loops or complex notations here):\n"
   ]
  },
  {
   "cell_type": "code",
   "execution_count": null,
   "metadata": {
    "collapsed": true,
    "scrolled": true
   },
   "outputs": [],
   "source": [
    "my_array+3\n"
   ]
  },
  {
   "cell_type": "markdown",
   "metadata": {},
   "source": [
    "You can also do mathematical operations between two arrays. Note they have to be same dimentions"
   ]
  },
  {
   "cell_type": "code",
   "execution_count": null,
   "metadata": {
    "collapsed": false,
    "scrolled": false
   },
   "outputs": [],
   "source": [
    "a = np.array([1, 2, 3])\n",
    "b = np.array([0, 1, 2])\n",
    "print('multiplication a x b = ', a*b)\n",
    "print('substraction a - b = ', a-b)\n",
    "print('addition a + b = ', a+b)"
   ]
  },
  {
   "cell_type": "markdown",
   "metadata": {},
   "source": [
    "<div class=\"alert alert-success\">\n",
    "    <b>TASK 1.1.2 </b> : calculate the square of each value in <code>my_array</code>\n",
    "</div>\n",
    "\n",
    "<div class=\"alert alert-info\">\n",
    "    <b>Hint</b> : <code>**</code> is the _to the power of_ operator, i.e. $x^2$ will be <code>x**2</code> in the code\n",
    "</div>\n",
    "\n"
   ]
  },
  {
   "cell_type": "code",
   "execution_count": null,
   "metadata": {
    "collapsed": true
   },
   "outputs": [],
   "source": [
    "# your solution here!\n",
    "\n",
    "\n"
   ]
  },
  {
   "cell_type": "markdown",
   "metadata": {},
   "source": [
    "<details>\n",
    "    <summary> <mark> SOLUTION:</mark> </summary>\n",
    "   \n",
    "```python\n",
    "my_array**2\n",
    "\n",
    "```\n",
    "\n",
    "</details>"
   ]
  },
  {
   "cell_type": "markdown",
   "metadata": {},
   "source": [
    "[back to top](#teabags)\n",
    "\n",
    "\n",
    "---\n",
    "### 1.1.3 - Accessing slices of 1D array <a class=\"anchor\" id=\"1Dslice\"></a>\n",
    "Let's try to *slice* the 1D array we made"
   ]
  },
  {
   "cell_type": "markdown",
   "metadata": {},
   "source": [
    "\n",
    "<img src=\"images/slicing1.png\" width=\"500\">\n"
   ]
  },
  {
   "cell_type": "markdown",
   "metadata": {},
   "source": [
    "<div class=\"alert alert-success\">\n",
    "    <b>TASK 1.1.3 </b> : generate a 1D array of 20 elements and fill it with random numbers, using package <code>np.random.random</code> then pick every 3rd value within first 10.\n",
    "    \n",
    "</div>\n"
   ]
  },
  {
   "cell_type": "code",
   "execution_count": null,
   "metadata": {
    "collapsed": true
   },
   "outputs": [],
   "source": [
    "# your solution here!\n",
    "\n"
   ]
  },
  {
   "cell_type": "markdown",
   "metadata": {},
   "source": [
    "<details>\n",
    "    <summary> <mark> SOLUTION:</mark> </summary>\n",
    "\n",
    "    \n",
    "```python\n",
    "random = np.random.random(20)\n",
    "picked = random[0:10:3]\n",
    "    ```\n",
    "    \n",
    "    \n",
    "\n",
    "</details>\n",
    "\n"
   ]
  },
  {
   "cell_type": "markdown",
   "metadata": {},
   "source": [
    "[back to top](#teabags)\n",
    "\n",
    "\n",
    "---\n",
    "\n",
    "## Part 1.2 -  2D and multiD arrays <a class=\"anchor\" id=\"2D\"></a>\n",
    "\n",
    "### 1.2.1 - Generating 2D arrays  <a class=\"anchor\" id=\"2Dgen\"></a>\n",
    "\n",
    "\n",
    "You can also create a 2D array in the following manner:"
   ]
  },
  {
   "cell_type": "code",
   "execution_count": null,
   "metadata": {
    "collapsed": false
   },
   "outputs": [],
   "source": [
    "#Creating a 2D numpy array:\n",
    "aa = [[1, 2], [3, 4], [5, 6]]\n",
    "my_array2 = np.array(aa)\n",
    "print(my_array2)\n"
   ]
  },
  {
   "cell_type": "markdown",
   "metadata": {},
   "source": [
    "Now, let's have a look at the properties of this array:  <a class=\"anchor\" id=\"2Dprop\"></a>"
   ]
  },
  {
   "cell_type": "code",
   "execution_count": null,
   "metadata": {
    "collapsed": false
   },
   "outputs": [],
   "source": [
    "#array properties of the 2D array\n",
    "print(\"dimensions\", my_array2.ndim)\n",
    "print(\"shape\", my_array2.shape)\n",
    "print(\"size\", my_array2.size)\n"
   ]
  },
  {
   "cell_type": "markdown",
   "metadata": {},
   "source": [
    "Note how in the example above, the shape of the matrix is defined by the number of **rows** and then **columns**. \n",
    "\n"
   ]
  },
  {
   "cell_type": "markdown",
   "metadata": {},
   "source": [
    "\n",
    "<div class=\"alert alert-success\">\n",
    "    <b>TASK 1.2.1a </b> : generate a 4x5 array of integers with a function <code>np.ones</code>  and print out it's properties\n",
    "</div>\n",
    "\n"
   ]
  },
  {
   "cell_type": "code",
   "execution_count": null,
   "metadata": {
    "collapsed": true
   },
   "outputs": [],
   "source": [
    "# your solution here!\n",
    "\n",
    "\n"
   ]
  },
  {
   "cell_type": "markdown",
   "metadata": {},
   "source": [
    "\n",
    "<details>\n",
    "    <summary> <mark> SOLUTION:</mark> </summary>\n",
    "   \n",
    "```python\n",
    "my_ones=np.ones((4,5), dtype='int')\n",
    "print(\"dimensions\", my_ones.ndim)\n",
    "print(\"shape\", my_ones.shape)\n",
    "print(\"size\", my_ones.size) \n",
    "```\n",
    "\n",
    "</details>\n"
   ]
  },
  {
   "cell_type": "markdown",
   "metadata": {},
   "source": [
    "Creating an array full of zeros or ones is, perhaps, not the most useful. Instead we can create an array (or matrix of a given shape) with predefined values, using function `np.full`"
   ]
  },
  {
   "cell_type": "code",
   "execution_count": null,
   "metadata": {
    "collapsed": false,
    "scrolled": true
   },
   "outputs": [],
   "source": [
    "f=np.full((4,5),1.234)\n",
    "print(f)\n"
   ]
  },
  {
   "cell_type": "markdown",
   "metadata": {},
   "source": [
    "To create an array that has a given sequence, instead of having to type:\n",
    "\n",
    "```python\n",
    "sequence = np.array( [ 0,  2,  4,  6,  8, 10, 12, 14, 16, 18, 20] )\n",
    "```\n",
    "\n",
    "you can use function \n",
    "```python\n",
    "np.arange(start, finish, stepsize)\n",
    "```\n",
    "\n",
    "\n",
    "<div class=\"alert alert-success\">\n",
    "    <b>TASK 1.2.1b </b> : Try to go from 0 to 20 in steps of 2, using <code>np.arrange</code>\n",
    "\n",
    "</div>\n",
    "\n",
    "\n",
    "\n"
   ]
  },
  {
   "cell_type": "code",
   "execution_count": null,
   "metadata": {
    "collapsed": true
   },
   "outputs": [],
   "source": [
    "# your solution here!\n",
    "\n",
    "\n"
   ]
  },
  {
   "cell_type": "markdown",
   "metadata": {},
   "source": [
    "<details>\n",
    "    <summary> <mark> SOLUTION:</mark> </summary>\n",
    "\n",
    "    \n",
    "```python\n",
    "np.arange(0,21,2) \n",
    "```\n",
    "    \n",
    "\n",
    "</details>\n"
   ]
  },
  {
   "cell_type": "markdown",
   "metadata": {},
   "source": [
    "<div class=\"alert alert-success\">\n",
    "   Q: What number did you have to go stop until to get 20 as a last number? Why?\n",
    "</div>"
   ]
  },
  {
   "cell_type": "markdown",
   "metadata": {},
   "source": [
    "\n",
    "<details>\n",
    "    <summary> <mark> Answer:</mark> </summary>\n",
    "\n",
    "    Since python counts from 0, if we declare <code>np.arange(0,20,2) </code> the count will stop at 18\n",
    "    \n",
    "</details>\n"
   ]
  },
  {
   "cell_type": "markdown",
   "metadata": {
    "collapsed": true
   },
   "source": [
    "<div class=\"alert alert-success\">\n",
    "    <b>TASK 1.2.1c</b> : try to generate the same array using <code> np.linspace(start, finish, no. of steps) </code>     \n",
    "    How is it different?\n",
    "</div>\n",
    "\n",
    "\n",
    "\n"
   ]
  },
  {
   "cell_type": "code",
   "execution_count": null,
   "metadata": {
    "collapsed": true
   },
   "outputs": [],
   "source": [
    "# your solution here!\n",
    "\n",
    "\n"
   ]
  },
  {
   "cell_type": "markdown",
   "metadata": {},
   "source": [
    "<details>\n",
    "    <summary> <mark> SOLUTION:</mark> </summary>\n",
    "\n",
    "    \n",
    "```python\n",
    "np.linspace(0, 20, 11)\n",
    "```\n",
    "    \n",
    "    \n",
    "\n",
    "</details>\n"
   ]
  },
  {
   "cell_type": "markdown",
   "metadata": {},
   "source": [
    "\n",
    "[back to top](#teabags)\n",
    "\n",
    "\n",
    "---\n",
    "\n",
    "### 1.2.2 - Loading an array from/to a file <a class=\"anchor\" id=\"loading\"></a>\n",
    "\n",
    "Just like with pandas, we can also load 1D or 2D arrays from a plain text file. \n"
   ]
  },
  {
   "cell_type": "code",
   "execution_count": null,
   "metadata": {
    "collapsed": false
   },
   "outputs": [],
   "source": [
    "#read the file in\n",
    "data = np.loadtxt('data/slice_me.txt')\n",
    "print(data.shape) #shape of the data\n"
   ]
  },
  {
   "cell_type": "markdown",
   "metadata": {},
   "source": [
    "Lots of options available for loading the file.\n",
    "\n",
    "For example, if your file has a header you would like to skip (e.g. the first 5 rows of a file and also to ignore lines commented out with `#`, you can use:\n",
    ">```python\n",
    "numpy.loadtxt('array.txt', comments='#', skiprows=5)\n",
    "```\n"
   ]
  },
  {
   "cell_type": "markdown",
   "metadata": {},
   "source": [
    "\n",
    "To save the array into the file, use `savetxt` function enables saving arrays in a file:\n",
    ">```python\n",
    "   numpy.savetxt('array.txt', data)\n",
    "```"
   ]
  },
  {
   "cell_type": "code",
   "execution_count": null,
   "metadata": {
    "collapsed": true
   },
   "outputs": [],
   "source": [
    "#write an array out\n",
    "np.savetxt('slice_me_copy.txt', data) #you saved a copy of an array\n"
   ]
  },
  {
   "cell_type": "markdown",
   "metadata": {},
   "source": [
    "\n",
    "[back to top](#teabags)\n",
    "\n",
    "\n",
    "---\n",
    "\n",
    "### 1.2.3 - Slicing 2D arrays <a class=\"anchor\" id=\"2Dslice\"></a>\n",
    "\n",
    "Now, let's see what is within the file we have loaded. In the same way as above we can do so by *slicing* it\n",
    "<img src=\"images/slicing2.png\" width=\"500\">"
   ]
  },
  {
   "cell_type": "code",
   "execution_count": null,
   "metadata": {
    "collapsed": false,
    "scrolled": false
   },
   "outputs": [],
   "source": [
    "print('column one', data[:, 0]) #select first column\n",
    "print('row four', data[3, :]) #select 4th line\n",
    "print('selected area', data[0:2, 3:7]) #select area\n",
    "print('samples', data[1:5:2, 3:10:3]) #select samples in a given space\n"
   ]
  },
  {
   "cell_type": "markdown",
   "metadata": {},
   "source": [
    "[back to top](#teabags)\n",
    "\n",
    "\n",
    "---\n",
    "\n",
    "### 1.2.4 -  Mathematical operations on 2D arrays <a class=\"anchor\" id=\"2Dmath\"></a>\n",
    "\n",
    "All mathematical operations between arrays act element by element, we can also chose an axis of operation:\n"
   ]
  },
  {
   "cell_type": "markdown",
   "metadata": {},
   "source": [
    "<img src=\"images/AxisSum.png\" width=\"500\">\n"
   ]
  },
  {
   "cell_type": "markdown",
   "metadata": {},
   "source": [
    "<div class=\"alert alert-success\">\n",
    "    <b>TASK 1.2.4a</b> : Calculate sum of all the elements in the \"slice_me.txt\", as well as vertical and horizontal sums\n",
    "</div>\n"
   ]
  },
  {
   "cell_type": "code",
   "execution_count": null,
   "metadata": {
    "collapsed": true
   },
   "outputs": [],
   "source": [
    "# your solution here!\n",
    "\n",
    "\n"
   ]
  },
  {
   "cell_type": "markdown",
   "metadata": {},
   "source": [
    "<details>\n",
    "    <summary> <mark> SOLUTION:</mark> </summary>\n",
    "\n",
    "    \n",
    "```python\n",
    "\n",
    "\n",
    "a = np.loadtxt('slice_me.txt')\n",
    "\n",
    "print(np.sum(a))\n",
    "print(\"vertical sum\", np.sum(a, axis=0))\n",
    "print(\"horizontal sum\", np.sum(a, axis=1))\n",
    "\n",
    "\n",
    "\n",
    "```\n",
    "    \n",
    "\n",
    "</details>\n",
    "\n"
   ]
  },
  {
   "cell_type": "markdown",
   "metadata": {},
   "source": [
    "<div class=\"alert alert-success\">\n",
    "    <b>TASK 1.2.4b</b> : In the folder you will find the file <b>data/ms.txt</b>. It contains 2 columns of numbers - m/z and intensity. Read the file, extract one every 10th line (i.e. subsample), save only the intensities column into a separate file.\n",
    "</div>\n"
   ]
  },
  {
   "cell_type": "code",
   "execution_count": null,
   "metadata": {
    "collapsed": true
   },
   "outputs": [],
   "source": [
    "# your solution here!\n",
    "\n",
    "\n"
   ]
  },
  {
   "cell_type": "markdown",
   "metadata": {},
   "source": [
    "<details>\n",
    "    <summary> <mark> SOLUTION:</mark> </summary>\n",
    "\n",
    "    \n",
    "```python\n",
    "\n",
    "# read file\n",
    "data = np.loadtxt('ms.txt')\n",
    "\n",
    "#extract every 10th line for the second column only\n",
    "subdata = data [::10, 1] \n",
    "\n",
    "#check the shapes of the data sets to check you subsampled correctly\n",
    "print (data.shape)\n",
    "print (subdata.shape)\n",
    "\n",
    "#save the file\n",
    "np.savetxt('sub_intensities.txt', subdata)\n",
    "\n",
    "\n",
    "```\n",
    "    \n",
    "\n",
    "</details>\n",
    "\n"
   ]
  },
  {
   "cell_type": "markdown",
   "metadata": {},
   "source": [
    "<div class=\"alert alert-success\">\n",
    "    <b> Advanced TASK  </b> : can you do the same without numpy?\n",
    "</div>\n"
   ]
  },
  {
   "cell_type": "code",
   "execution_count": null,
   "metadata": {
    "collapsed": true
   },
   "outputs": [],
   "source": [
    "# your solution here!\n",
    "\n",
    "\n",
    "\n"
   ]
  },
  {
   "cell_type": "markdown",
   "metadata": {},
   "source": [
    "<details>\n",
    "    <summary> <mark> SOLUTION:</mark> </summary>\n",
    "\n",
    "    \n",
    "```python\n",
    "#read in a file \n",
    "fin = open(\"ms.txt\", \"r\")\n",
    "\n",
    "#create a file to write into\n",
    "fout = open(\"sub_intensities2.txt\", \"w\")\n",
    "\n",
    "#start counter   \n",
    "cnt=0 \n",
    "\n",
    "#for each line in the file\n",
    "for line in fin:\n",
    "    \n",
    "    #if the line number is divisable by 10\n",
    "    if cnt %10 ==0:\n",
    "        \n",
    "        #split into columns, assigning the second one to intensity\n",
    "        columns = line.split()\n",
    "        intensity = columns[1]\n",
    "       \n",
    "        #write into the file\n",
    "        fout.write(intensity)\n",
    "        \n",
    "        #return to next line \n",
    "        fout.write(\"\\n\")\n",
    "        \n",
    "    #increment the count\n",
    "    cnt += 1\n",
    "    \n",
    "fin.close()\n",
    "fout.close()\n",
    "\n",
    "\n",
    "```\n",
    "    \n",
    "\n",
    "</details>\n",
    "\n"
   ]
  },
  {
   "cell_type": "markdown",
   "metadata": {},
   "source": [
    "[back to top](#teabags)\n",
    "\n",
    "\n",
    "---\n",
    "\n",
    "### 1.2.5 - Analysing and processing arrays <a class=\"anchor\" id=\"2Danalys\"></a>\n",
    "\n",
    "You can now benefit from a **collection of methods** within numpy to process and analyse your data\n",
    "\n",
    " - `numpy.min(a)` find min value in the array\n",
    " - `numpy.argmin(a)` find position (AKA index) of the min value in the array\n",
    " - `numpy.max(a)` find max value in the array\n",
    " - `numpy.argmax(a)` find position (AKA index) of the max value in the array\n",
    " - `numpy.unique(a)` selects a subset of unique elements\n",
    " - `numpy.sort(a)` sorts the array max to min\n",
    " - `numpy.mean(a)` and `numpy.std(a)` compute mean and standard deviation of array values\n",
    " - `numpy.median(a)` \n",
    " - `numpy.sum(a)` sum the elements of an array\n",
    " \n",
    " \n"
   ]
  },
  {
   "cell_type": "markdown",
   "metadata": {},
   "source": [
    " Let's try these on the 'data/ms.txt' data we have previously loaded."
   ]
  },
  {
   "cell_type": "code",
   "execution_count": null,
   "metadata": {
    "collapsed": false,
    "scrolled": true
   },
   "outputs": [],
   "source": [
    "#example of using methods for analysing MS data\n",
    "data = np.loadtxt('data/ms.txt') # just in case, let's reload it again...\n",
    "\n",
    "print('min', np.min(data)) # find smallest value\n",
    "print('index of min', np.argmin(data)) # find index of the minimum\n",
    "print('unique elements', np.unique(data)) # selects unique elements\n",
    "print('mean', np.mean(data)) # compute mean of array values \n",
    "print('median', np.median(data)) # compute median of array values \n",
    "print('std', np.std(data)) # compute standard deviation of array values \n",
    "print('sum', np.sum(data)) # sum the elements of an array\n"
   ]
  },
  {
   "cell_type": "markdown",
   "metadata": {},
   "source": [
    "\n"
   ]
  },
  {
   "cell_type": "markdown",
   "metadata": {},
   "source": [
    "<div class=\"alert alert-success\">\n",
    "    <b>TASK 1.2.5</b> : Load the data file \"ms.txt\" provided and find the highest intensity peak, return its m/z value.\n",
    "</div>\n"
   ]
  },
  {
   "cell_type": "code",
   "execution_count": null,
   "metadata": {
    "collapsed": true
   },
   "outputs": [],
   "source": [
    "# your solution here!\n",
    "\n",
    "\n",
    "\n"
   ]
  },
  {
   "cell_type": "markdown",
   "metadata": {},
   "source": [
    "<details>\n",
    "    <summary> <mark> SOLUTION:</mark> </summary>\n",
    "\n",
    "    \n",
    "```python\n",
    "data = np.loadtxt(\"ms.txt\")\n",
    "maxval = np.max(data[:, 1])\n",
    "idx = np.argmax(data[:,1])\n",
    "mz=data[idx,0]\n",
    "\n",
    "print (\"peak\", maxval, \"at m/z\", mz)\n",
    "\n",
    "```\n",
    "    \n",
    "</details>\n",
    "\n"
   ]
  },
  {
   "cell_type": "markdown",
   "metadata": {},
   "source": [
    "\n",
    "[back to top](#teabags)\n",
    "\n",
    "\n",
    "---\n",
    "\n",
    "## Part 1.3 -  Boolean Indexing <a class=\"anchor\" id=\"bool\"></a>\n",
    "\n",
    "\n"
   ]
  },
  {
   "cell_type": "markdown",
   "metadata": {},
   "source": [
    "<img src=\"https://upload.wikimedia.org/wikipedia/commons/c/ce/George_Boole_color.jpg\" width=\"250\" style=\"float: right\">\n",
    "\n",
    "**George Boole** was a 19th century self-taught English mathematician, philosopher and logician. He is known for Boolean algerbra, that is based on variables being **True** or **False**, denoted as **1** and **0** respectively. \n",
    "\n",
    "The operations in Boolean algebra are **and** denoted as $\\wedge$, **or** denoted as $\\vee$ , and **not** denoted as $\\neg$.\n",
    "\n",
    "<img src=\"https://upload.wikimedia.org/wikipedia/commons/thumb/a/ae/Vennandornot.svg/2560px-Vennandornot.svg.png\" width=\"300\" style=\"float: center\" title=\"Venn diagram\"> <em><center>Venn diagram</center></em>\n"
   ]
  },
  {
   "cell_type": "markdown",
   "metadata": {},
   "source": [
    "\n",
    "---\n",
    "\n",
    "<div class=\"alert alert-info\">\n",
    "Often there are a few ways to do the same thing.  \n",
    "Here we show two types of expressions Bitwise and NumPy logical. At the end both do the same. \n",
    "\n",
    "```python\n",
    "a | b ~= np.logical_or (A, B)\n",
    "a & b ~= np.logical_and (A, B)\n",
    "a ^ b ~= np.logical_xor (A, B)\n",
    "a ~ b ~= np.logical_not (A, B)\n",
    "```\n",
    "</div>\n",
    "\n",
    "---\n"
   ]
  },
  {
   "cell_type": "markdown",
   "metadata": {},
   "source": [
    "[back to top](#teabags)\n",
    "\n",
    "\n",
    "\n",
    "### 1.3.1 - Boolean Tests <a class=\"anchor\" id=\"booltest\"></a>\n",
    "\n",
    "Boolean tests on an array produce an array of booleans:\n",
    "\n",
    "<img src=\"images/BooleanOp.png\" width=\"500\">\n",
    "\n",
    "\n",
    "The function `numpy.any(test)` tests for existence of at least a **True** value in a boolean array\n"
   ]
  },
  {
   "cell_type": "code",
   "execution_count": null,
   "metadata": {
    "collapsed": false
   },
   "outputs": [],
   "source": [
    "#declare an array\n",
    "a = np.array([32, 2, 65, 29, 7, 14, 57, 81, 27, 0, 56])\n",
    "\n",
    "#declare tests\n",
    "c = a>15\n",
    "d = a<0\n",
    "\n",
    "print (\"condition c = a>15 \", np.any(c))\n",
    "print (\"condition d = a<0 \", np.any(d))\n"
   ]
  },
  {
   "cell_type": "markdown",
   "metadata": {},
   "source": [
    "While the functions `numpy.logical_or(test1, test2)` and `numpy.logical_and(test1, test2)` apply element-wise boolean operations between two tests.\n",
    "\n",
    "\n",
    "Can a value satisfy both conditon `c` **and** condition `d`? "
   ]
  },
  {
   "cell_type": "code",
   "execution_count": null,
   "metadata": {
    "collapsed": false,
    "scrolled": true
   },
   "outputs": [],
   "source": [
    "#Boolean indexing\n",
    "print(np.logical_and(c, d))\n"
   ]
  },
  {
   "cell_type": "markdown",
   "metadata": {},
   "source": [
    "indeed, but it can be either condition `c` **or** `d`..."
   ]
  },
  {
   "cell_type": "code",
   "execution_count": null,
   "metadata": {
    "collapsed": false,
    "scrolled": false
   },
   "outputs": [],
   "source": [
    "#Boolean indexing\n",
    "print(np.logical_or(c, d))\n"
   ]
  },
  {
   "cell_type": "markdown",
   "metadata": {},
   "source": [
    "### 1.3.2 -  Boolean Indexing <a class=\"anchor\" id=\"boolind\"></a>\n",
    "We can also use an array of booleans to index another array, i.e. only elements coresponding to **True** are extracted from the indexed array.\n",
    "\n",
    "<img src=\"images/Boolean.png\" width=\"500\">"
   ]
  },
  {
   "cell_type": "code",
   "execution_count": null,
   "metadata": {
    "collapsed": false
   },
   "outputs": [],
   "source": [
    "#print the values that satisfy either c or d\n",
    "a_slice = a[np.logical_or(c, d)]\n",
    "print(a_slice)\n"
   ]
  },
  {
   "cell_type": "markdown",
   "metadata": {},
   "source": [
    "<div class=\"alert alert-success\">\n",
    "    <b>TASK 1.3.2 </b> : Using the mass spec data above, find m/z values in the region between m/z 6400 and 6600. \n",
    "</div>\n"
   ]
  },
  {
   "cell_type": "code",
   "execution_count": null,
   "metadata": {
    "collapsed": true
   },
   "outputs": [],
   "source": [
    "# your solution here!\n",
    "\n",
    "\n",
    "\n"
   ]
  },
  {
   "cell_type": "markdown",
   "metadata": {},
   "source": [
    "<details>\n",
    "    <summary> <mark> SOLUTION:</mark> </summary>\n",
    "\n",
    "    \n",
    "```python\n",
    "\n",
    "# your solution here!\n",
    "\n",
    "data = np.loadtxt(\"ms.txt\")\n",
    "\n",
    "#test and slicing \n",
    "test = np.logical_and(data[:,0]>6400, data[:,0]<6600)\n",
    "sliced_array = data[test, :]\n",
    "\n",
    "maxval = np.max(sliced_array[:,1])\n",
    "idx = np.argmax(sliced_array[:,1])\n",
    "mz=sliced_array[idx,0]\n",
    "\n",
    "print (\"peak\", maxval, \"at m/z\", mz)\n",
    "\n",
    "\n",
    "```\n",
    "    \n",
    "\n",
    "</details>\n",
    "\n"
   ]
  },
  {
   "cell_type": "markdown",
   "metadata": {
    "collapsed": true
   },
   "source": [
    "\n",
    "[back to top](#teabags)\n",
    "\n",
    "-----\n",
    "\n",
    "# Part 2 - Plotting data with Matplotlib <a class=\"anchor\" id=\"matplot\"></a>\n",
    "\n",
    "[matplotlib](http://matplotlib.org) is a Python package helping us to plot neatly the data we are analysing.\n",
    "\n",
    "<img src=\"images/mpltlib.png\" width=\"500\">"
   ]
  },
  {
   "cell_type": "markdown",
   "metadata": {},
   "source": [
    "Let's generate our first plot! As always, we **load the module** via `import` and call it `plt`. Then, to create a plot, we use command `plt.plot()` \n"
   ]
  },
  {
   "cell_type": "code",
   "execution_count": null,
   "metadata": {
    "collapsed": false,
    "scrolled": true
   },
   "outputs": [],
   "source": [
    "#importing matplotlib\n",
    "import matplotlib.pyplot as plt\n",
    "%matplotlib inline\n",
    "\n",
    "# some values\n",
    "# if True, hard-coded, if False, our data in the file data/ms.txt)\n",
    "if True:\n",
    "    x = [1, 2, 3, 4]\n",
    "    y = [1, 4, 9, 16]\n",
    "else:\n",
    "    x = data[:, 0]\n",
    "    y = data[:, 1]\n",
    "    \n",
    "#plot x against y\n",
    "plt.plot(x, y)\n",
    "plt.show()"
   ]
  },
  {
   "cell_type": "markdown",
   "metadata": {},
   "source": [
    "\n",
    "[back to top](#teabags)\n",
    "\n",
    "---\n",
    "\n",
    "###  2.1.1 - Customise the line style <a class=\"anchor\" id=\"customline\"></a>\n",
    "\n",
    "Now we can **customise the line style** with additional parameters, for example `plt.plot(x, y, 'o')` will change the line to set of points, as the third optional parameter `o` defines line style. It can also be `x` `:` `-` `--` ...\n",
    "\n",
    "\n",
    "We can (and should) always [Google to learn more and see examples:](https://matplotlib.org/3.3.2/api/_as_gen/matplotlib.pyplot.plot.html)\n",
    "\n",
    "<img src=\"images/MatPlotLib_plot.png\" width=\"800\">\n",
    "  \n",
    "\n",
    "scrolling down the page you will see examples, then information on the input `Parameters`, \n",
    "where `x, y` is our data that is array-like or scalar, while other parameters are optional. \n",
    "\n",
    "`**kwargs` set the properties of the plot and it is a big list. Ones I find using often are: \n",
    "-`color` defines the line’s colour and accepts several kinds of parameters:\n",
    "  * `r`  `k`  `b`  `g`  `y`  `m` `c` for colors defined by one letter\n",
    "  * RGB codes (hexadecimal code) in a format `#RRGGBB`\n",
    "  * named colours - [Click here for the list](http://matplotlib.org/examples/color/named_colors.html)\n",
    "  * it can be  can be abreviated to `c = 'lightsalmon'` meaning the colour is a chosen named colour.\n",
    "  \n",
    "  <img src=\"images/colors.png\" width=\"800\">\n",
    "  \n",
    "*When deciding what colours to use, remember that colours that seem clear to you may appear indistinguishable to others, or when printed. Matplotlib offers a wide selection of color palettes, including perceptually uniform sequential colour palettes, like  `viridis` (now default). These are colour blind friendly and printer-safe. Find out [more here](https://matplotlib.org/3.1.1/tutorials/colors/colormaps.html#colorblindness).*\n",
    "\n",
    "\n",
    "- `linewidth` changes line thickness, e.g.  `linewidth='2.0'` changes it to 2 pixels\n",
    "- `label` name of the data used on the line\n",
    "- `marker` marker for the points\n",
    "- `markersize` marker size in pixel\n",
    "- `alpha` level of transparency from 0.0 to 1.0 o the marker (will not work for lines)\n"
   ]
  },
  {
   "cell_type": "markdown",
   "metadata": {},
   "source": [
    "\n",
    "[back to top](#teabags)\n",
    "\n",
    "---\n",
    "\n",
    "### 2.1.2 - Labeling the plot and the data <a class=\"anchor\" id=\"labelplt\"></a>\n",
    "\n",
    "It is always a good practice to **label the plots**. <a class=\"anchor\" id=\"labelplt\"></a>\n",
    "\n",
    "Use the following commands to add the labels to your plot:\n",
    " - `xlabel()`\n",
    " - `ylabel()` \n",
    " - `title()`\n",
    "\n",
    "<div class=\"alert alert-info\">\n",
    "    <b>Hint</b> : To neatly write sub- and superscripts on th plots, like  $x_2$  or $x^2$ in the example above, use the $LaTeX$ notationin the code - <code>$x_2$</code> and <code>$x^2$</code> respectively. For  <a href=\"https://matplotlib.org/3.1.1/tutorials/text/mathtext.html\">more examples see here</a>.\n",
    "\n",
    "</div>\n",
    "\n"
   ]
  },
  {
   "cell_type": "markdown",
   "metadata": {},
   "source": [
    "<div class=\"alert alert-success\">\n",
    "    <b>TASK 2.1 </b> : generate a 1D array, x, and plot $x^2$ using non-default line types and colours, label the plot\n",
    "</div>\n"
   ]
  },
  {
   "cell_type": "code",
   "execution_count": null,
   "metadata": {
    "collapsed": true
   },
   "outputs": [],
   "source": [
    "#your plot here\n",
    "\n",
    "\n",
    "\n",
    "\n",
    "\n"
   ]
  },
  {
   "cell_type": "markdown",
   "metadata": {},
   "source": [
    "<details>\n",
    "<summary> <mark> SOLUTION:</mark> </summary>\n",
    "    \n",
    "```python\n",
    "\n",
    "#generating an array\n",
    "x = np.linspace(-10, 10, 21) \n",
    "y = x**2\n",
    "\n",
    "#plotting with X in a named colour, connected by a dotted line of a declared width\n",
    "plt.plot(x, y, 'x:', color='tomato', linewidth='1.5') \n",
    "\n",
    "#adding labens\n",
    "plt.xlabel('x')\n",
    "plt.ylabel('y')\n",
    "plt.title('my plot $y=x^2$')\n",
    "\n",
    "plt.show()\n",
    "\n",
    "```\n",
    "\n",
    "</details>\n",
    "\n"
   ]
  },
  {
   "cell_type": "markdown",
   "metadata": {},
   "source": [
    "Often you will find yourself needing to plot a few data sets on one graph. In this situation it is essential to **label your data sets**.\n",
    "\n",
    "\n",
    "For example, let's generate some arrays and plot them in variouss colours and styles:"
   ]
  },
  {
   "cell_type": "code",
   "execution_count": null,
   "metadata": {
    "collapsed": false
   },
   "outputs": [],
   "source": [
    "#generate array x\n",
    "x = np.arange(10, 17, 0.5) \n",
    "\n",
    "#generate array y of equivalent shape \n",
    "y = np.linspace(-11, 28, x.shape[0])\n",
    "\n",
    "#let's check what we have made\n",
    "print(x.shape, x)\n",
    "print(y.shape, y)\n"
   ]
  },
  {
   "cell_type": "code",
   "execution_count": null,
   "metadata": {
    "collapsed": true
   },
   "outputs": [],
   "source": [
    "#let's do some math on these arrays\n",
    "a = x + 3\n",
    "b = x ** 2\n",
    "c = x * y\n",
    "d = np.sqrt((x*50)+y**4)\n",
    "\n",
    "# to print numbers we got out, uncomment lines below\n",
    "#print (a)\n",
    "#print (b)\n",
    "#print (c)\n",
    "#print (d)\n"
   ]
  },
  {
   "cell_type": "code",
   "execution_count": null,
   "metadata": {
    "collapsed": false
   },
   "outputs": [],
   "source": [
    "#plot these \n",
    "plt.plot(x, a, '.--', c='k', label='$x+3$')\n",
    "plt.plot(x, b, 'x:', c='coral', label='$x^2$')\n",
    "plt.plot(x, d, ':',  c= '#7E317B', linewidth=3, label='$\\sqrt{50x+y^4}$')\n",
    "\n",
    "#set one label to use a few times\n",
    "l='$xy$'\n",
    "plt.plot(x, c, '-', c='teal', label=l)\n",
    "plt.plot(x, c, marker='o', alpha=0.2, markersize=10, label=l)\n",
    "\n",
    "#set plot labels, show title and leend\n",
    "plt.xlabel('x')\n",
    "plt.ylabel('y')\n",
    "plt.title('functions')\n",
    "plt.legend(loc=\"upper left\")\n",
    "plt.show()\n"
   ]
  },
  {
   "cell_type": "markdown",
   "metadata": {},
   "source": [
    "[back to top](#teabags)\n",
    "\n",
    "---\n",
    "\n",
    "### 2.1.3 - Creating sub-plots <a class=\"anchor\" id=\"subpl\"></a>\n",
    "\n",
    "The above plot is quite overwhelming, instead, we can create a few **sub-plots**\n",
    "\n",
    "<img src=\"images/figsubplots.png\" width=\"500\">"
   ]
  },
  {
   "cell_type": "markdown",
   "metadata": {},
   "source": [
    "### 2.1.4 - Saving your plots <a class=\"anchor\" id=\"saveplt\"></a>\n",
    "\n",
    "Also, don't forget to **save your beautiful plot** for latter use in lab report, paper, thesis.\n",
    "\n",
    "this cab be done with `plt.savefig('name.extention')` \n",
    "\n",
    "while you ned to name your plot and decide on the format there may be other parameters you want to use, e.g.\n",
    ">```python\n",
    "plt.savefig('myfigure.png', dpi=300)\n",
    "```\n",
    "\n",
    "where `dpi` is dots per inch, i.e. resolution of your figure. Normally `300` will get you a good quality figure for a paper. There are other paranmeters you may want to use, like transparency, metadata, etc. read [documentation here](https://matplotlib.org/3.1.1/api/_as_gen/matplotlib.pyplot.savefig.html).\n"
   ]
  },
  {
   "cell_type": "code",
   "execution_count": null,
   "metadata": {
    "collapsed": false
   },
   "outputs": [],
   "source": [
    "# create a figure\n",
    "plt.figure()\n",
    "\n",
    "#create subplots\n",
    "plt.subplot(2, 1, 1) #2 plots per line, 1 per column, plot 1            \n",
    "plt.plot(x, a, '.--', c='k')\n",
    "plt.xlabel('x')\n",
    "plt.ylabel('y')\n",
    "plt.title('function $a=x+3$')\n",
    "\n",
    "plt.subplot(2, 1, 2) #2 plots per line, 1 per column, plot 2\n",
    "plt.plot(x, b, 'x:', c='coral')\n",
    "plt.xlabel('x')\n",
    "plt.ylabel('y')\n",
    "plt.title('function $b=x^2$')\n",
    "\n",
    "#adjust the spacing between subplots, so they do not overlap\n",
    "plt.subplots_adjust(hspace=1.)\n",
    "\n",
    "#create another figure\n",
    "palatinate='#7E317B'\n",
    "plt.figure(2)\n",
    "plt.plot(x, c, '.-', c='teal', label='$xy$' )\n",
    "plt.plot(x, d, ':',  c= palatinate, linewidth='3', label='$\\sqrt{50x+y^4}$')\n",
    "plt.legend()\n",
    "\n",
    "plt.xlabel('x')\n",
    "plt.ylabel('y')\n",
    "plt.title('functions')\n",
    "\n",
    "#save image as .png (or .eps or .pdf or many other)\n",
    "plt.savefig(\"myfigure.png\") \n",
    "\n",
    "#plt.show should be called just ONCE\n",
    "plt.show() \n"
   ]
  },
  {
   "cell_type": "markdown",
   "metadata": {},
   "source": [
    "There are many styles for plots that **matplotlib** can offer.\n",
    "<img src=\"images/figsubplots2.png\" width=\"500\">\n",
    "Today we just covered the very basics to get you started. Let's apply what we have learned for some data analysis!"
   ]
  },
  {
   "cell_type": "markdown",
   "metadata": {},
   "source": [
    "\n",
    "[back to top](#teabags)\n",
    "\n",
    "---\n",
    "\n",
    "# Part 3  - Data Analysis with Numpy and Scipy <a class=\"anchor\" id=\"analysis\"></a>\n",
    "\n",
    "\n",
    "## 3.1. Fitting Models to Data <a class=\"anchor\" id=\"fitmodels\"></a> "
   ]
  },
  {
   "cell_type": "markdown",
   "metadata": {},
   "source": [
    "<a class=\"anchor\" id=\"polyfit\"></a> \n",
    "Linear least squares is a convex problem. As long as the number of parameters in the model to be fitted is greater than the number of datapoints (i.e. the problem is _overdetermined_) an analytical solution exists. A problem is linear only if model's parameters are related to eachother via sums.\n",
    "\n",
    "A typical example of linear least squares is that of polynomials fitting. The functions [polyfit](https://numpy.org/doc/stable/reference/generated/numpy.polyfit.html) and [polyval](https://numpy.org/doc/stable/reference/generated/numpy.polyval.html), provided within numpy, are dedicated to polynomial fitting."
   ]
  },
  {
   "cell_type": "code",
   "execution_count": null,
   "metadata": {
    "collapsed": false
   },
   "outputs": [],
   "source": [
    "def fct(x, a, b, c):\n",
    "    return a*x**2 + b*x + c\n",
    "\n",
    "# generate a noisy signal\n",
    "coeffs= [1, 1, 1]\n",
    "x = np.linspace(0, 10, 10)\n",
    "y_clean = fct(x, *coeffs)\n",
    "noise = np.random.normal(0, 20, len(x))\n",
    "y = y_clean + noise\n",
    "\n",
    "# polynomial fit of noisy signal\n",
    "poly = np.poly1d(coeffs)\n",
    "x2 = np.linspace(0, 10, 100)\n",
    "y2 = poly(x2)\n",
    "\n",
    "# plot noisy signal and polynomial fit\n",
    "fig = plt.figure()\n",
    "plt.plot(x, y, 'ko', label=\"data\")\n",
    "plt.plot(x2, y2, 'r-', label=\"model\")\n",
    "plt.xlabel(\"x\")\n",
    "plt.ylabel(\"y\")\n",
    "plt.legend(frameon=False, loc=\"upper left\")\n",
    "plt.savefig(\"simple_fit.png\")\n",
    "plt.show()"
   ]
  },
  {
   "cell_type": "markdown",
   "metadata": {},
   "source": [
    "How do we know a fit is good? Residuals should be Gaussian distributed, and feature no distinguishable trends. Let's see an example."
   ]
  },
  {
   "cell_type": "code",
   "execution_count": null,
   "metadata": {
    "collapsed": false
   },
   "outputs": [],
   "source": [
    "# polynomial function\n",
    "def fct(x, a, b, c, d):\n",
    "    return d*x**3 + c*x**2 - b*x + a\n",
    "\n",
    "# create some noisy data\n",
    "x = np.linspace(-10, 10, 101)\n",
    "y_clean = fct(x, 1, 2, 1, 0.5)\n",
    "noise = np.random.normal(0, 100, len(x))\n",
    "y = y_clean + noise\n",
    "\n",
    "# calculate its third-order polynomial fit\n",
    "coef, pcov = np.polyfit(x, y, 3, cov=True)\n",
    "poly = np.poly1d(coef)\n",
    "\n",
    "# residuals (difference between data and model)\n",
    "residuals = y-poly(x)\n",
    "\n",
    "# plot noisy data with fitted model\n",
    "fig = plt.figure()\n",
    "x2 = np.linspace(-14, 14, 501)\n",
    "plt.plot(x, y, 'ko')\n",
    "plt.plot(x2, poly(x2), 'r-')\n",
    "plt.xlim([x[0], x[-1]])\n",
    "plt.ylim([-600, 600])\n",
    "plt.savefig(\"data_noise_fit.png\")\n",
    "\n",
    "#plot the model's residuals (left plot) and their histogram (right plot)\n",
    "fig = plt.figure(dpi=80, figsize=(8, 4))\n",
    "ax = fig.add_subplot(1, 2, 1)\n",
    "ax.plot(x, residuals, 'o', color='k') # residuals\n",
    "ax.plot([-10,10],[0,0], \"k-\")\n",
    "ax.set_ylabel(\"residual\")\n",
    "ax.set_xlabel(\"x\")\n",
    "\n",
    "ax = fig.add_subplot(1, 2, 2)\n",
    "ax.hist(residuals, orientation=\"horizontal\",  color = \"skyblue\", ec=\"black\") # residuals\n",
    "ax.set_yticks([])\n",
    "ax.set_yticklabels([])\n",
    "fig.subplots_adjust(wspace=0, hspace=0)\n",
    "ax.set_xlabel(\"count (#)\")\n",
    "\n",
    "plt.show()\n",
    "plt.savefig(\"data_residuals_all.png\")"
   ]
  },
  {
   "cell_type": "code",
   "execution_count": null,
   "metadata": {
    "collapsed": true
   },
   "outputs": [],
   "source": [
    "# EXTRA (if time allows)\n",
    "# you can calculate the properties of your fit\n",
    "# e.g. analysing its covariance matrix and calculating its coefficient of determination\n",
    "# To see those analysis, substitute \"False\" with \"True\" below\"\n",
    "\n",
    "if False:\n",
    "    print(\"polynome coefficients: \", coef)\n",
    "    pcov[pcov < 0.000000001]= 0\n",
    "    print(\"covariance matrix: \", pcov)\n",
    "    \n",
    "    # Calculate coefficient of determination (R2)\n",
    "    ybar = np.sum(y)/len(y)\n",
    "    ssreg = np.sum((poly(x)- ybar)**2)\n",
    "    sstot = np.sum((y - ybar)**2)\n",
    "    det = ssreg / sstot\n",
    "    print(\"coeff. of determination: \", det)\n",
    "\n",
    "    # an alternative way of calculating R2:\n",
    "    ssres = np.sum((y - poly(x))**2)\n",
    "    sstot = np.sum((y - ybar)**2)\n",
    "    det = 1- ssres / sstot\n",
    "    print(\"coeff. of determination (method 2): \", det)"
   ]
  },
  {
   "cell_type": "markdown",
   "metadata": {},
   "source": [
    "What happens if we fit the data with higher order polynomials? We may overfit the data! Overfitting can be detected by observing the residuals and highest polynomial parameter. "
   ]
  },
  {
   "cell_type": "code",
   "execution_count": null,
   "metadata": {
    "collapsed": false
   },
   "outputs": [],
   "source": [
    "# fit polynomials of increasingly high order (from 1 to 20)\n",
    "p = []\n",
    "order = range(1, 21)\n",
    "res = []\n",
    "maxv = []\n",
    "for i in order:\n",
    "    vals, resid, rank, sv, rcond = np.polyfit(x, y, i, full=True)\n",
    "    poly = np.poly1d(vals)\n",
    "    p.append(poly)\n",
    "    res.append(resid) \n",
    "    maxv.append(np.max(np.abs(vals)))\n",
    "\n",
    "# plot noisy data with polynomials of increasing order (a subset of all fits previously generated)\n",
    "fig = plt.figure()\n",
    "plt.plot(x, y, 'ko')\n",
    "\n",
    "x2 = np.linspace(-14, 14, 501)\n",
    "toplot = [0, 1, 2, 5, 8, 18]\n",
    "for i in toplot:\n",
    "    plt.plot(x2, p[i](x2), '-', label=\"%s\"%order[i])\n",
    "    \n",
    "plt.xlim([x2[0], x2[-1]])\n",
    "plt.ylim([-1000, 1000])\n",
    "plt.legend(loc=\"lower center\", ncol=2)\n",
    "plt.savefig(\"data_lots_of_poly.png\")\n",
    "\n",
    "#plot sum of squared residuals for every fit\n",
    "fig = plt.figure()\n",
    "plt.plot(order, res, 'ko')\n",
    "plt.xlabel(\"polynome order\")\n",
    "plt.ylabel(\"residual\")\n",
    "plt.xlim([0.5, 20.5])\n",
    "plt.savefig(\"data_residuals.png\")\n",
    "\n",
    "# plot highest parameter value for every polynomial fit\n",
    "fig = plt.figure()\n",
    "plt.plot(order, maxv, 'ko')\n",
    "plt.xlabel(\"polynome order\")\n",
    "plt.ylabel(\"max poly. coef.\")\n",
    "plt.xlim([0.5, 20.5])\n",
    "\n",
    "plt.show()\n",
    "plt.savefig(\"data_coefficients.png\")"
   ]
  },
  {
   "cell_type": "markdown",
   "metadata": {},
   "source": [
    "A sufficiently high polynomial can even fit pure noise!"
   ]
  },
  {
   "cell_type": "markdown",
   "metadata": {},
   "source": [
    "<div class=\"alert alert-success\">\n",
    "    <b>TASK 3.1 </b> : What happens if you fit data with a polynome of an order equal to the number of datapoints? Does the result make sense?\n",
    "</div>"
   ]
  },
  {
   "cell_type": "code",
   "execution_count": null,
   "metadata": {
    "collapsed": true
   },
   "outputs": [],
   "source": [
    "# this is some random data\n",
    "N = 20 # number of datapoints\n",
    "x = np.linspace(-10, 10, N)\n",
    "y = np.random.normal(0, 10, len(x))\n",
    "\n",
    "# here, write your code to fit a polynomial of the same order of data (N)\n",
    "# ...\n",
    "\n",
    "# here, plot the noisy data and the fitted model\n",
    "# ...\n",
    "\n",
    "# ADVANCED: calculate and plot residuals\n",
    "# ...\n"
   ]
  },
  {
   "cell_type": "markdown",
   "metadata": {},
   "source": [
    "<details>\n",
    "<summary> <mark> SOLUTION:</mark> </summary> \n",
    "```python\n",
    "x = np.linspace(-10, 10, 20)\n",
    "y = np.random.normal(0, 10, len(x))\n",
    "\n",
    "vals_20, resid_20, _, _, _ = np.polyfit(x, y, 20, full=True)\n",
    "poly_20 = np.poly1d(vals_20)\n",
    "\n",
    "plt.plot(x, y, 'ko')\n",
    "\n",
    "x2 = np.linspace(-12, 12, 501)\n",
    "plt.plot(x2, poly_20(x2), 'r-')\n",
    "    \n",
    "plt.xlim([x2[0], x2[-1]])\n",
    "plt.ylim([-30, 30])\n",
    "\n",
    "plt.show()\n",
    "plt.savefig(\"fit_random_noise.png\")\n",
    "```\n",
    "\n",
    "</details>\n",
    "\n"
   ]
  },
  {
   "cell_type": "markdown",
   "metadata": {},
   "source": [
    "<a class=\"anchor\" id=\"curvefit\"></a> \n",
    "To fit non-linear models, we cannot use linear least squares.\n",
    "We will then use a general curve fitting algorithm provided by another Python package: **scipy**.\n",
    "\n",
    "The [curve_fit](https://docs.scipy.org/doc/scipy/reference/generated/scipy.optimize.curve_fit.html) function available in scipy’s optimize module provides methods for fitting models to data (default is Levenberg-Marquardt method).\n",
    "\n",
    "In the example below, we generate a noisy Gaussian signal, and fit with a Gaussian model. We then observe its residuals to make sure the fit is ok."
   ]
  },
  {
   "cell_type": "code",
   "execution_count": null,
   "metadata": {
    "collapsed": false
   },
   "outputs": [],
   "source": [
    "from scipy.optimize import curve_fit\n",
    "\n",
    "# define a gaussian function\n",
    "def gaussian(x, ampl, center, width):\n",
    "    return ampl*np.exp(-(x-center)**2/width)\n",
    "\n",
    "# create gaussian-distributed noisy data\n",
    "x = np.linspace(-10, 10, 101)\n",
    "y = gaussian(x, 2.3, 0.2, 1.5) + np.random.normal(0, 0.2, len(x)) \n",
    "\n",
    "# find parameters ideally fitting a gaussian to noisy data\n",
    "init = [1, 0, 1]\n",
    "vals, covar = curve_fit(gaussian, x, y, p0=init)\n",
    "\n",
    "# generate fitted curve profile\n",
    "yfit = gaussian(x, vals[0], vals[1], vals[2])\n",
    "\n",
    "# plt noisy data and gaussian fit\n",
    "plt.figure(figsize=(5, 8), dpi=80)\n",
    "plt.subplot(2, 1, 1)\n",
    "plt.plot(x, y, 'o', color='k') # original data\n",
    "plt.plot(x, yfit, '-', color = 'r', linewidth=3) # fit\n",
    "\n",
    "plt.subplot(2, 1, 2)\n",
    "plt.plot(x, y-yfit, 'o', color='k') # residuals\n",
    "plt.plot([-10,10],[0,0], color=\"k\")\n",
    "plt.savefig(\"gaussian_fit.png\")\n",
    "plt.show()"
   ]
  },
  {
   "cell_type": "markdown",
   "metadata": {},
   "source": [
    "Residuals are are distributed normally around 0, and feature no sytematic trends. This indicates the fit is good."
   ]
  },
  {
   "cell_type": "markdown",
   "metadata": {},
   "source": [
    "\n",
    "[back to top](#teabags)\n",
    "\n",
    "---\n",
    "\n",
    "## 3.2. Integrating Differential Equations<a class=\"anchor\" id=\"odeint\"></a> "
   ]
  },
  {
   "cell_type": "markdown",
   "metadata": {},
   "source": [
    "Scipy offers the **integrate** module, that allows integrating ordinary differential equations. Here we will use the method [odeint](https://docs.scipy.org/doc/scipy/reference/generated/scipy.integrate.odeint.html)."
   ]
  },
  {
   "cell_type": "markdown",
   "metadata": {},
   "source": [
    "The prey-predator (a.k.a. Lotka-Volterra) equations are a famous example of coupled differential equations. They describe the trend in the population of two species. Predators diminish when there are not enough preys, prey diminish when there are lots of predators. Let's integrate them!\n",
    "<img src=\"images/preypredator.png\" width=\"200\">\n",
    "<a class=\"anchor\" id=\"coupledodeint\"></a>"
   ]
  },
  {
   "cell_type": "code",
   "execution_count": null,
   "metadata": {
    "collapsed": false
   },
   "outputs": [],
   "source": [
    "from scipy.integrate import odeint\n",
    "\n",
    "def dA_dt(A, t=0): # function to integrate\n",
    "    prey = (b-p*A[1])*A[0]\n",
    "    predator = (r*A[0]-d)*A[1]\n",
    "    return np.array([prey, predator])\n",
    "\n",
    "t = np.linspace(0, 5, 1000) #time\n",
    "\n",
    "# define constants and initial parameters\n",
    "b = 5.0\n",
    "d = 5.0\n",
    "p = 1.0\n",
    "r = 1.0\n",
    "A_init = np.array([10, 10])\n",
    "\n",
    "# integrate the differential equation\n",
    "A_int = odeint(dA_dt, A_init, t)\n",
    "\n",
    "# plot time versus populations\n",
    "plt.plot(t, A_int[:, 0], \"b\", label=\"prey\")\n",
    "plt.plot(t, A_int[:, 1], \"r\", label=\"predator\")\n",
    "plt.legend()\n",
    "\n",
    "plt.xlabel(\"time (a.u.)\")\n",
    "plt.ylabel(\"population (#)\")\n",
    "\n",
    "plt.show()\n",
    "plt.savefig(\"prey_predator.png\")"
   ]
  },
  {
   "cell_type": "markdown",
   "metadata": {},
   "source": [
    "An example of irreversible process is that of radioactive decay, where an element converts into another through a series of a series of irreversible steps. In the example below, an element A decays into C via an intermediate B.\n",
    "<img src=\"images/radioactive_decay.png\" width=\"200\">"
   ]
  },
  {
   "cell_type": "markdown",
   "metadata": {},
   "source": [
    "<div class=\"alert alert-success\">\n",
    "    <b>TASK 3.1 </b> : In this last exercise we will integrate a system of three coupled differential equations describing radioactive decay.    \n",
    "</div>"
   ]
  },
  {
   "cell_type": "code",
   "execution_count": null,
   "metadata": {
    "collapsed": true
   },
   "outputs": [],
   "source": [
    "# your solution here\n",
    "\n"
   ]
  },
  {
   "cell_type": "markdown",
   "metadata": {},
   "source": [
    "<details>\n",
    "<summary> <mark> SOLUTION:</mark> </summary> \n",
    "```python\n",
    "def dt(vals, t=0): # function to integrate\n",
    "    dA = -k1*vals[0]\n",
    "    dB = k1*vals[0] - k2*vals[1]\n",
    "    dC = k2*vals[1]\n",
    "    return np.array([dA, dB, dC])\n",
    "\n",
    "t1 = np.linspace(0, 15, 100) #time\n",
    "k1 = 1.5\n",
    "k2 = 0.5\n",
    "pop_init = np.array([1, 0, 0])\n",
    "pop_int1 = odeint(dt, pop_init, t1)\n",
    "\n",
    "# plot the time evolution of the three species\n",
    "plt.figure(dpi=80, figsize=(12, 4))\n",
    "plt.subplot(1,1,1)\n",
    "plt.plot(t1, pop_int1[:, 0], \"b\", label=\"A\")\n",
    "plt.plot(t1, pop_int1[:, 1], \"r\", label=\"B\")\n",
    "plt.plot(t1, pop_int1[:, 2], \"k\", label=\"C\")\n",
    "plt.legend(loc=\"upper right\")\n",
    "\n",
    "plt.show()\n",
    "\n",
    "plt.savefig(\"reactions_all.png\")```\n",
    "\n",
    "</details>\n",
    "\n"
   ]
  },
  {
   "cell_type": "markdown",
   "metadata": {},
   "source": [
    "\n",
    "[back to top](#teabags)\n",
    "\n",
    "---\n",
    "\n",
    "## 3.3. Differentiating and Integrating <a class=\"anchor\" id=\"diffandint\"></a> "
   ]
  },
  {
   "cell_type": "markdown",
   "metadata": {},
   "source": [
    "*An extra topic, if time allows!*\n",
    "\n",
    "Given a signal, common procedures to analyse this data include calculating its derivative and area under the curve.\n",
    "\n",
    "\n",
    "Calculating the derivative is common practive to find edges in images, or identifying maxima/minima. Here are two possible ways to calculate it.\n",
    "<img src=\"images/intdiff2.png\" width=\"500\">\n",
    "\n",
    "Calculating the area under the curve (i.e. the integral) can also be calculated in two different ways. The trapezoidal rule tends to be more accurate (unless bins are infinitely small).\n",
    "<img src=\"images/intdiff1.png\" width=\"500\">"
   ]
  },
  {
   "cell_type": "code",
   "execution_count": null,
   "metadata": {
    "collapsed": false
   },
   "outputs": [],
   "source": [
    "def gaussian(x, mu, sig):\n",
    "    return 1./(np.sqrt(2.*np.pi)*sig)*np.exp(-np.power((x - mu)/sig, 2.)/2)\n",
    "\n",
    "step = 0.1\n",
    "x = np.arange(-10, 11, step)\n",
    "y = gaussian(x, 0, 2)\n",
    "\n",
    "plt.figure(figsize=(5, 8), dpi=80)\n",
    "plt.subplot(2, 1, 1)\n",
    "plt.plot(x, y, '-', color='k') # original data\n",
    "\n",
    "#integration (calculate are under the curve)\n",
    "print(\"Area under the curve (integration)):\")\n",
    "print(\"- sum: \", np.sum(y)*step)\n",
    "print(\"- trapezoid:\", np.trapz(y, dx=step))\n",
    "\n",
    "# differentiation\n",
    "y_grad = np.gradient(y, step)\n",
    "\n",
    "# plot differentiation\n",
    "plt.subplot(2, 1, 2)\n",
    "plt.plot(x, y_grad, '-', color='g')\n",
    "plt.plot(x[:-1], np.diff(y)/step, '-', color='m')\n",
    "plt.show()"
   ]
  },
  {
   "cell_type": "markdown",
   "metadata": {},
   "source": [
    "\n",
    "Thank you for joining! [back to top](#teabags)"
   ]
  }
 ],
 "metadata": {
  "anaconda-cloud": {},
  "kernelspec": {
   "display_name": "Python [default]",
   "language": "python",
   "name": "python3"
  },
  "language_info": {
   "codemirror_mode": {
    "name": "ipython",
    "version": 3
   },
   "file_extension": ".py",
   "mimetype": "text/x-python",
   "name": "python",
   "nbconvert_exporter": "python",
   "pygments_lexer": "ipython3",
   "version": "3.5.2"
  },
  "toc": {
   "base_numbering": 1,
   "nav_menu": {},
   "number_sections": true,
   "sideBar": true,
   "skip_h1_title": false,
   "title_cell": "Table of Contents",
   "title_sidebar": "Contents",
   "toc_cell": false,
   "toc_position": {},
   "toc_section_display": true,
   "toc_window_display": false
  }
 },
 "nbformat": 4,
 "nbformat_minor": 1
}
